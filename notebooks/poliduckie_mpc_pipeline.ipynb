{
  "cells": [
    {
      "cell_type": "markdown",
      "metadata": {
        "colab_type": "text",
        "id": "view-in-github"
      },
      "source": [
        "<a href=\"https://colab.research.google.com/github/poliduckie/poliduckie_pipeline/blob/master/notebooks/poliduckie_mpc_pipeline.ipynb\" target=\"_parent\"><img src=\"https://colab.research.google.com/assets/colab-badge.svg\" alt=\"Open In Colab\"/></a>"
      ]
    },
    {
      "cell_type": "markdown",
      "metadata": {
        "id": "5FCeh8gHPSJy"
      },
      "source": [
        "# PoliDuckies\n",
        "A notebook with the complete pipeline"
      ]
    },
    {
      "cell_type": "markdown",
      "metadata": {
        "id": "rJkEtZRlQ0zb"
      },
      "source": [
        "### Standard imports"
      ]
    },
    {
      "cell_type": "code",
      "execution_count": null,
      "metadata": {
        "id": "eIB65_tJPiuk"
      },
      "outputs": [],
      "source": [
        "import os \n",
        "branch = \"daffy\" #@param ['master', 'daffy']\n",
        "if branch == \"daffy\":\n",
        "  !pip install duckietown-gym-daffy\n",
        "  !pip install pyglet==1.5.15\n",
        "else:\n",
        "  if not os.path.isdir('gym-duckietown') and not os.path.isdir('../gym-duckietown'):\n",
        "    !git clone --branch {branch} https://github.com/duckietown/gym-duckietown.git\n",
        "    !pip3 install -e gym-duckietown\n",
        "  if \"/gym-duckietown\" not in os.getcwd():\n",
        "    os.chdir('gym-duckietown')\n",
        "!apt install xvfb -y\n",
        "!pip3 install pyvirtualdisplay\n",
        "\n",
        "from pyvirtualdisplay import Display\n",
        "import numpy as np\n",
        "import matplotlib.pyplot as plt\n",
        "from IPython import display as ipythondisplay\n",
        "%matplotlib inline\n",
        "\n",
        "## used to copy the model to the gdrive folder\n",
        "import shutil\n",
        "\n",
        "import cv2\n",
        "import gym\n",
        "import gym_duckietown\n",
        "\n",
        "# Gym has a built in logger to log information. The information is split in importance levels, from highest to lowest:\n",
        "# CRITICAL, ERROR, WARNING, INFO, DEBUG, NOTSET\n",
        "# To stop gym from printing many verbose NOTSET, INFO and DEBUG messages we let it print only level WARNING or higher messages\n",
        "import logging\n",
        "gym_duckietown.logger.setLevel(logging.WARNING)\n",
        "\n",
        "!pip install poliduckie-segmentation"
      ]
    },
    {
      "cell_type": "code",
      "execution_count": null,
      "metadata": {
        "id": "UZP-KzySRJS8"
      },
      "outputs": [],
      "source": [
        "map_name = \"Duckietown-ETH_large_loop\""
      ]
    },
    {
      "cell_type": "markdown",
      "metadata": {
        "id": "TXEag6KYQ3ni"
      },
      "source": [
        "### Methods"
      ]
    },
    {
      "cell_type": "code",
      "execution_count": null,
      "metadata": {
        "id": "o5SGGxixPX_c"
      },
      "outputs": [],
      "source": [
        "from poliduckie_segmentation.segmentation import Segmentation\n",
        "def segmentation(image):\n",
        "  \"\"\"\n",
        "    Returns the image from the simulation with the segmentation\n",
        "\n",
        "    Image: np.Array\n",
        "    ------\n",
        "    Image: np.Array\n",
        "  \"\"\"\n",
        "\n",
        "  seg = Segmentation()\n",
        "  return seg.predict(image)"
      ]
    },
    {
      "cell_type": "code",
      "execution_count": 4,
      "metadata": {
        "id": "y5xBN_UmP0tV"
      },
      "outputs": [],
      "source": [
        "from poliduckie_segmentation.line_extraction import LineExtraction\n",
        "def lineExtraction(image, n_points=100, mode=\"bezier\", bezier_degree=3):\n",
        "  \"\"\"\n",
        "    Returns the central line extracted as a numpy array. The mode can be either \"bezier\" or \"spline\"\n",
        "\n",
        "    Image: np.Array\n",
        "    n_points: int\n",
        "    mode: str\n",
        "    bezier_degree: int\n",
        "    ------\n",
        "    Line: np.Array\n",
        "  \"\"\"\n",
        "  lineExtraction_ = LineExtraction()\n",
        "  x, y, pca = lineExtraction_.extract_centroids(image)\n",
        "\n",
        "  if mode == \"bezier\":\n",
        "    bezier_points = lineExtraction_.fit_bezier(x, y, degree=bezier_degree, n_points=n_points)\n",
        "    return bezier_points\n",
        "  \n",
        "  elif mode == \"spline\":\n",
        "    spline_points = lineExtraction_.spline_interpolation(image, n_points=n_points)\n",
        "    return spline_points"
      ]
    },
    {
      "cell_type": "code",
      "execution_count": null,
      "metadata": {
        "id": "VReD3_-oQFka"
      },
      "outputs": [],
      "source": [
        "def computeReference(line, N):\n",
        "  \"\"\"\n",
        "    Returns the references in meters\n",
        "    Reference is a list with dimension (2, N)\n",
        "    N is the prediction horizon of the MPC\n",
        "\n",
        "    Line: np.Array\n",
        "    N: int\n",
        "    ------\n",
        "    reference: List[[List[Float], List[Float]]]\n",
        "  \"\"\"\n",
        "  # extract x, y of reference\n",
        "  # TODO\n",
        "\n",
        "  reference = [[x]*N, [y]*N]\n",
        "  pass"
      ]
    },
    {
      "cell_type": "code",
      "execution_count": null,
      "metadata": {
        "id": "yrGbhLf4QbE5"
      },
      "outputs": [],
      "source": [
        "from poliduckie_segmentation.control import MPC\n",
        "M = MPC()\n",
        "\n",
        "def runMpc(state, reference):\n",
        "  \"\"\"\n",
        "    Returns the control inputs to give to the car.\n",
        "    State is [x, y, theta, v, w]\n",
        "    Reference is a list with dimension (2, N)\n",
        "\n",
        "    state: [Float, Float, Float, Float, Float]\n",
        "    reference: List[[List[Float], List[Float]]]\n",
        "    ------\n",
        "    u: List[Float, Float]\n",
        "  \"\"\"\n",
        "  return M.mpc(state, reference)"
      ]
    },
    {
      "cell_type": "markdown",
      "metadata": {
        "id": "X1vmuB_1Q7cK"
      },
      "source": [
        "### Simulation"
      ]
    },
    {
      "cell_type": "code",
      "execution_count": null,
      "metadata": {
        "id": "n-pMy1_BReS6"
      },
      "outputs": [],
      "source": [
        "display = Display(visible=0, size=(1400, 900))\n",
        "display.start()\n",
        "env = gym.make(map_name)\n",
        "env.reset()"
      ]
    },
    {
      "cell_type": "code",
      "execution_count": null,
      "metadata": {
        "id": "HSiJq_3ARSEE"
      },
      "outputs": [],
      "source": [
        "from poliduckie_segmentation.model import Model\n",
        "\n",
        "# State X = [x, y, angle, longitudinal speed, angular speed]\n",
        "state = [0,0,0,0,0]\n",
        "\n",
        "F = Model()\n",
        "\n",
        "image_recording = []\n",
        "\n",
        "for _ in range(100):\n",
        "  image = env.render(mode=\"rgb_array\")\n",
        "  image_recording.append(image)\n",
        "  image_segmentation = segmentation(image)\n",
        "  line = lineExtraction(image_segmentation)\n",
        "  reference = computeReference(line)\n",
        "  action = runMpc(state, reference)\n",
        "  state = F.step(*state, action)\n",
        "  env.step(action)"
      ]
    }
  ],
  "metadata": {
    "colab": {
      "authorship_tag": "ABX9TyOTPmtnkYLXjnnWb+Uw6D9p",
      "include_colab_link": true,
      "provenance": []
    },
    "kernelspec": {
      "display_name": "Python 3",
      "name": "python3"
    },
    "language_info": {
      "codemirror_mode": {
        "name": "ipython",
        "version": 3
      },
      "file_extension": ".py",
      "mimetype": "text/x-python",
      "name": "python",
      "nbconvert_exporter": "python",
      "pygments_lexer": "ipython3",
      "version": "3.10.10"
    }
  },
  "nbformat": 4,
  "nbformat_minor": 0
}
